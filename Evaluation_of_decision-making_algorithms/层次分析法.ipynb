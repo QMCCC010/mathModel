{
 "cells": [
  {
   "cell_type": "markdown",
   "metadata": {},
   "source": [
    "#1、一致性检验"
   ]
  },
  {
   "cell_type": "code",
   "execution_count": 1,
   "metadata": {},
   "outputs": [
    {
     "name": "stdout",
     "output_type": "stream",
     "text": [
      "一致性指标CI=  (0.03761001273071566+0j)\n",
      "一致性比例CR=  (0.04225844127046704+0j)\n",
      "因为CR<0.10,所以该判断矩阵A的一致性可以接受!\n"
     ]
    }
   ],
   "source": [
    "import numpy as np\n",
    "\n",
    "\n",
    "A = np.array([[1, 2, 3, 5], [1/2, 1, 1/2, 2], [1/3, 2, 1, 2], [1/5, 1/2, 1/2, 1]])\n",
    "\n",
    "n = A.shape[0]\n",
    "\n",
    "\n",
    "# 求出最大特征值以及对应的特征向量\n",
    "eig_val, eig_vec = np.linalg.eig(A) # eig_val是特征值， eig_vec是特征向量\n",
    "max_eig = max(eig_val)\n",
    "\n",
    "CI = (max_eig - n) / (n - 1)\n",
    "RI = [0, 0.0001, 0.52, 0.89, 1.12, 1.26, 1.36, 1.41, 1.46, 1.49, 1.52, 1.54, 1.56, 1.58, 1.59]\n",
    "# n = 2时，一定是一致矩阵，所以CI = 0， 为了避免分母为0， 将第二个元素修改为很接近0的正数\n",
    "\n",
    "CR = CI / RI[n-1]\n",
    "\n",
    "print(\"一致性指标CI= \", CI)\n",
    "print(\"一致性比例CR= \", CR)\n",
    "\n",
    "if CR < 0.10:\n",
    "    print(\"因为CR<0.10,所以该判断矩阵A的一致性可以接受!\")\n",
    "else:\n",
    "    print(\"注意：CR >= 0.10,因此该判断矩阵A需要进行修改!\")"
   ]
  },
  {
   "cell_type": "markdown",
   "metadata": {},
   "source": [
    "#2、算数平均法求权重"
   ]
  },
  {
   "cell_type": "code",
   "execution_count": 7,
   "metadata": {},
   "outputs": [
    {
     "name": "stdout",
     "output_type": "stream",
     "text": [
      "[0.48885991 0.18192996 0.2318927  0.09731744]\n"
     ]
    }
   ],
   "source": [
    "import numpy as np\n",
    "\n",
    "\n",
    "A = np.array([[1, 2, 3, 5], [1/2, 1, 1/2, 2], [1/3, 2, 1, 2], [1/5, 1/2, 1/2, 1]])\n",
    "\n",
    "# 计算每一列的和\n",
    "# axis参数用于计算多维数组的某个维度上的元素总和，例如在二维数组中，axis = 0表示按列计算总和， axis = 1表示按行计算总和\n",
    "ASum = np.sum(A,axis=0)\n",
    "\n",
    "# 获取A的行\n",
    "n = A.shape[0]\n",
    "\n",
    "# 归一化\n",
    "Stand_A = A / ASum\n",
    "\n",
    "# 各列添加到同一行\n",
    "ASumr = np.sum(Stand_A, axis=1)\n",
    "\n",
    "# 计算权重向量\n",
    "weights = ASumr / n\n",
    "\n",
    "print(weights)"
   ]
  },
  {
   "cell_type": "markdown",
   "metadata": {},
   "source": [
    "#3、几何平均法求权重"
   ]
  },
  {
   "cell_type": "code",
   "execution_count": 8,
   "metadata": {},
   "outputs": [
    {
     "name": "stdout",
     "output_type": "stream",
     "text": [
      "[0.49492567 0.17782883 0.22724501 0.1000005 ]\n"
     ]
    }
   ],
   "source": [
    "import numpy as np\n",
    "\n",
    "\n",
    "A = np.array([[1, 2, 3, 5], [1/2, 1, 1/2, 2], [1/3, 2, 1, 2], [1/5, 1/2, 1/2, 1]])\n",
    "\n",
    "# 获取A的行\n",
    "n = A.shape[0]\n",
    "\n",
    "# 将A的每一行元素相乘得到一列向量\n",
    "prod_A = np.prod(A,axis=1)\n",
    "\n",
    "# 将新的向量的每个分量开n次方等价求1/n次方\n",
    "prod_n_A = np.power(prod_A, 1/n)\n",
    "\n",
    "# 归一化\n",
    "re_prod_A = prod_n_A / np.sum(prod_n_A)\n",
    "\n",
    "# 展示权重结果\n",
    "print(re_prod_A)"
   ]
  },
  {
   "cell_type": "markdown",
   "metadata": {},
   "source": [
    "#4、特征值法求权重"
   ]
  },
  {
   "cell_type": "code",
   "execution_count": 9,
   "metadata": {},
   "outputs": [
    {
     "name": "stdout",
     "output_type": "stream",
     "text": [
      "[0.4933895 +0.j 0.17884562+0.j 0.230339  +0.j 0.09742588+0.j]\n"
     ]
    }
   ],
   "source": [
    "import numpy as np\n",
    "\n",
    "\n",
    "A = np.array([[1, 2, 3, 5], [1/2, 1, 1/2, 2], [1/3, 2, 1, 2], [1/5, 1/2, 1/2, 1]])\n",
    "\n",
    "# 获取A的行\n",
    "n = A.shape[0]\n",
    "\n",
    "# 求出特征值和特征向量\n",
    "eig_val, eig_vec = np.linalg.eig(A)\n",
    "\n",
    "# 找出最大特征值的索引\n",
    "max_index = np.argmax(eig_val)\n",
    "\n",
    "# 找出对应特征向量\n",
    "max_vec = eig_vec[:, max_index]\n",
    "\n",
    "# 归一化\n",
    "weights = max_vec / np.sum(max_vec)\n",
    "\n",
    "print(weights)"
   ]
  }
 ],
 "metadata": {
  "kernelspec": {
   "display_name": "Python 3",
   "language": "python",
   "name": "python3"
  },
  "language_info": {
   "codemirror_mode": {
    "name": "ipython",
    "version": 3
   },
   "file_extension": ".py",
   "mimetype": "text/x-python",
   "name": "python",
   "nbconvert_exporter": "python",
   "pygments_lexer": "ipython3",
   "version": "3.13.5"
  }
 },
 "nbformat": 4,
 "nbformat_minor": 2
}
